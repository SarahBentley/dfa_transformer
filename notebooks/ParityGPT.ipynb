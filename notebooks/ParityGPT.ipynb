{
 "cells": [
  {
   "cell_type": "markdown",
   "metadata": {},
   "source": [
    "# Preliminaries"
   ]
  },
  {
   "cell_type": "code",
   "execution_count": 1,
   "metadata": {},
   "outputs": [],
   "source": [
    "import sys\n",
    "import os\n",
    "\n",
    "# Set the PYTHONPATH to the project root\n",
    "sys.path.append(os.path.abspath(os.path.join(os.getcwd(), '..')))"
   ]
  },
  {
   "cell_type": "code",
   "execution_count": 2,
   "metadata": {},
   "outputs": [],
   "source": [
    "from src.DFA.ParityDFA import ParityDFA\n",
    "from src.GPT.config import GPTConfig, TrainConfig\n",
    "from src.GPT.train_GPT import train_GPT\n",
    "from src.GPT.GPT import GPT\n",
    "from src.GPT.dataloader import DFADataloader\n",
    "from src.utils.visualizations import plot_loss, plot_losses, visualize_metrics, metrics_by_length\n",
    "\n",
    "import torch\n",
    "import torch.nn as nn"
   ]
  },
  {
   "cell_type": "markdown",
   "metadata": {},
   "source": [
    "# Train"
   ]
  },
  {
   "cell_type": "code",
   "execution_count": 3,
   "metadata": {},
   "outputs": [
    {
     "name": "stdout",
     "output_type": "stream",
     "text": [
      "number of parameters: 623.07M\n"
     ]
    },
    {
     "ename": "AttributeError",
     "evalue": "'GPT' object has no attribute 'congifure_optimizers'",
     "output_type": "error",
     "traceback": [
      "\u001b[0;31m---------------------------------------------------------------------------\u001b[0m",
      "\u001b[0;31mAttributeError\u001b[0m                            Traceback (most recent call last)",
      "Cell \u001b[0;32mIn[3], line 23\u001b[0m\n\u001b[1;32m     11\u001b[0m gptconf \u001b[38;5;241m=\u001b[39m GPTConfig(\n\u001b[1;32m     12\u001b[0m     block_size \u001b[38;5;241m=\u001b[39m \u001b[38;5;241m1024\u001b[39m,\n\u001b[1;32m     13\u001b[0m     vocab_size \u001b[38;5;241m=\u001b[39m dataloader\u001b[38;5;241m.\u001b[39mvocab_size,\n\u001b[0;32m   (...)\u001b[0m\n\u001b[1;32m     18\u001b[0m     bias \u001b[38;5;241m=\u001b[39m \u001b[38;5;28;01mFalse\u001b[39;00m\n\u001b[1;32m     19\u001b[0m )\n\u001b[1;32m     21\u001b[0m model \u001b[38;5;241m=\u001b[39m GPT(gptconf)\n\u001b[0;32m---> 23\u001b[0m train_loss \u001b[38;5;241m=\u001b[39m \u001b[43mtrain_GPT\u001b[49m\u001b[43m(\u001b[49m\u001b[43mmodel\u001b[49m\u001b[43m,\u001b[49m\u001b[43m \u001b[49m\u001b[43mtrainconf\u001b[49m\u001b[43m,\u001b[49m\u001b[43m \u001b[49m\u001b[43mdevice_type\u001b[49m\u001b[38;5;241;43m=\u001b[39;49m\u001b[38;5;124;43m'\u001b[39;49m\u001b[38;5;124;43mcpu\u001b[39;49m\u001b[38;5;124;43m'\u001b[39;49m\u001b[43m)\u001b[49m\n",
      "File \u001b[0;32m~/dfa_transformer/src/GPT/train_GPT.py:5\u001b[0m, in \u001b[0;36mtrain_GPT\u001b[0;34m(model, config, device_type)\u001b[0m\n\u001b[1;32m      2\u001b[0m \u001b[38;5;28;01mdef\u001b[39;00m \u001b[38;5;21mtrain_GPT\u001b[39m(model, config, device_type):\n\u001b[1;32m      3\u001b[0m     model\u001b[38;5;241m.\u001b[39mtrain()\n\u001b[0;32m----> 5\u001b[0m     optimizer \u001b[38;5;241m=\u001b[39m \u001b[43mmodel\u001b[49m\u001b[38;5;241;43m.\u001b[39;49m\u001b[43mcongifure_optimizers\u001b[49m(config\u001b[38;5;241m.\u001b[39mweight_decay, config\u001b[38;5;241m.\u001b[39mlr, (config\u001b[38;5;241m.\u001b[39mbeta1, config\u001b[38;5;241m.\u001b[39mbeta2), device_type) \n\u001b[1;32m      7\u001b[0m     train_loss \u001b[38;5;241m=\u001b[39m []\n\u001b[1;32m      9\u001b[0m     \u001b[38;5;28;01mfor\u001b[39;00m epoch \u001b[38;5;129;01min\u001b[39;00m \u001b[38;5;28mrange\u001b[39m(config\u001b[38;5;241m.\u001b[39mnum_epochs):\n",
      "File \u001b[0;32m~/dfa_transformer/venv/lib/python3.10/site-packages/torch/nn/modules/module.py:1688\u001b[0m, in \u001b[0;36mModule.__getattr__\u001b[0;34m(self, name)\u001b[0m\n\u001b[1;32m   1686\u001b[0m     \u001b[38;5;28;01mif\u001b[39;00m name \u001b[38;5;129;01min\u001b[39;00m modules:\n\u001b[1;32m   1687\u001b[0m         \u001b[38;5;28;01mreturn\u001b[39;00m modules[name]\n\u001b[0;32m-> 1688\u001b[0m \u001b[38;5;28;01mraise\u001b[39;00m \u001b[38;5;167;01mAttributeError\u001b[39;00m(\u001b[38;5;124mf\u001b[39m\u001b[38;5;124m\"\u001b[39m\u001b[38;5;124m'\u001b[39m\u001b[38;5;132;01m{\u001b[39;00m\u001b[38;5;28mtype\u001b[39m(\u001b[38;5;28mself\u001b[39m)\u001b[38;5;241m.\u001b[39m\u001b[38;5;18m__name__\u001b[39m\u001b[38;5;132;01m}\u001b[39;00m\u001b[38;5;124m'\u001b[39m\u001b[38;5;124m object has no attribute \u001b[39m\u001b[38;5;124m'\u001b[39m\u001b[38;5;132;01m{\u001b[39;00mname\u001b[38;5;132;01m}\u001b[39;00m\u001b[38;5;124m'\u001b[39m\u001b[38;5;124m\"\u001b[39m)\n",
      "\u001b[0;31mAttributeError\u001b[0m: 'GPT' object has no attribute 'congifure_optimizers'"
     ]
    }
   ],
   "source": [
    "dataloader = DFADataloader(ParityDFA, batch_size=10, max_seq_len=5, pad_idx=0)\n",
    "\n",
    "  trainconf = TrainConfig(\n",
    "      dataloader=dataloader,\n",
    "      num_epochs=50,\n",
    "      lr = 0.001,\n",
    "      num_batches = 100,\n",
    "      weight_decay=0\n",
    "  ) # betas left as default\n",
    "\n",
    "  gptconf = GPTConfig(\n",
    "      block_size = 30,\n",
    "      vocab_size = dataloader.vocab_size,\n",
    "      n_layer = 3,\n",
    "      n_head = 2,\n",
    "      n_embd = 30,\n",
    "      dropout = 0,\n",
    "      bias = False\n",
    "  )\n",
    "\n",
    "  model = GPT(gptconf)\n",
    "\n",
    "  train_loss = train_GPT(model, trainconf, device_type='cpu')"
   ]
  }
 ],
 "metadata": {
  "kernelspec": {
   "display_name": "venv",
   "language": "python",
   "name": "python3"
  },
  "language_info": {
   "codemirror_mode": {
    "name": "ipython",
    "version": 3
   },
   "file_extension": ".py",
   "mimetype": "text/x-python",
   "name": "python",
   "nbconvert_exporter": "python",
   "pygments_lexer": "ipython3",
   "version": "3.10.12"
  }
 },
 "nbformat": 4,
 "nbformat_minor": 2
}
